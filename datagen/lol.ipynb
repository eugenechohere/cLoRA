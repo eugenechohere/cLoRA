{
 "cells": [
  {
   "cell_type": "code",
   "execution_count": 1,
   "id": "0e5385e5",
   "metadata": {},
   "outputs": [],
   "source": [
    "import json\n",
    "\n",
    "qa_pairs = json.load(open(\"/Users/eugenecho/Documents/calhacks-continual-learning/synth_data.json\"))"
   ]
  },
  {
   "cell_type": "code",
   "execution_count": 3,
   "id": "c9c8be38",
   "metadata": {},
   "outputs": [
    {
     "data": {
      "text/plain": [
       "{'question': 'What did Eugene do at\\u202f3:51\\u202fPM on Saturday\\u202fOct\\u202f25\\u202fin the Arc browser?',\n",
       " 'answer': \"Eugene was watching a YouTube interview titled **“Andrej\\u202fKarpathy — ‘We’re summoning ghosts, not building animals’”**. The video showed a speaker at a wooden table with a large black\\u202fRØDE\\u202fmic, a plant, and a red‑brick wall. Subtitles displayed the line “similar to maybe what evolution has done. That's why I call pre‑training.” The Arc tab bar and macOS menu indicated the browser was the active window.\"}"
      ]
     },
     "execution_count": 3,
     "metadata": {},
     "output_type": "execute_result"
    }
   ],
   "source": [
    "qa_pairs[0]"
   ]
  },
  {
   "cell_type": "code",
   "execution_count": 2,
   "id": "070773c7",
   "metadata": {},
   "outputs": [],
   "source": [
    "import pandas as pd\n",
    "\n",
    "df = pd.DataFrame([q for q in qa_pairs])"
   ]
  },
  {
   "cell_type": "code",
   "execution_count": 4,
   "id": "b84d565a",
   "metadata": {},
   "outputs": [
    {
     "data": {
      "text/html": [
       "<div>\n",
       "<style scoped>\n",
       "    .dataframe tbody tr th:only-of-type {\n",
       "        vertical-align: middle;\n",
       "    }\n",
       "\n",
       "    .dataframe tbody tr th {\n",
       "        vertical-align: top;\n",
       "    }\n",
       "\n",
       "    .dataframe thead th {\n",
       "        text-align: right;\n",
       "    }\n",
       "</style>\n",
       "<table border=\"1\" class=\"dataframe\">\n",
       "  <thead>\n",
       "    <tr style=\"text-align: right;\">\n",
       "      <th></th>\n",
       "      <th>question</th>\n",
       "      <th>answer</th>\n",
       "    </tr>\n",
       "  </thead>\n",
       "  <tbody>\n",
       "    <tr>\n",
       "      <th>0</th>\n",
       "      <td>What did Eugene do in the Arc browser around *...</td>\n",
       "      <td>Eugene opened a YouTube video in the Arc brows...</td>\n",
       "    </tr>\n",
       "    <tr>\n",
       "      <th>1</th>\n",
       "      <td>How did Eugene transition from YouTube to Spot...</td>\n",
       "      <td>Eugene switched focus from the Arc tab to the ...</td>\n",
       "    </tr>\n",
       "    <tr>\n",
       "      <th>2</th>\n",
       "      <td>What specific interaction did Eugene perform w...</td>\n",
       "      <td>He clicked the profile avatar in the top‑right...</td>\n",
       "    </tr>\n",
       "    <tr>\n",
       "      <th>3</th>\n",
       "      <td>What information was displayed on Eugene’s Spo...</td>\n",
       "      <td>The profile page showed a large header **“euge...</td>\n",
       "    </tr>\n",
       "    <tr>\n",
       "      <th>4</th>\n",
       "      <td>Which artist page did Eugene view next, and wh...</td>\n",
       "      <td>He clicked **“keshi”** in the “Your Library” s...</td>\n",
       "    </tr>\n",
       "    <tr>\n",
       "      <th>...</th>\n",
       "      <td>...</td>\n",
       "      <td>...</td>\n",
       "    </tr>\n",
       "    <tr>\n",
       "      <th>3207</th>\n",
       "      <td>What activity occurred in Slack at 3:53 PM?</td>\n",
       "      <td>Eugene opened a direct message in **Cal Hacks ...</td>\n",
       "    </tr>\n",
       "    <tr>\n",
       "      <th>3208</th>\n",
       "      <td>What final interactions did Eugene perform bef...</td>\n",
       "      <td>After the Slack exchange, Eugene’s activity en...</td>\n",
       "    </tr>\n",
       "    <tr>\n",
       "      <th>3209</th>\n",
       "      <td>Why might Eugene have removed keshi’s “WANTCHU...</td>\n",
       "      <td>Eugene’s removal of **“WANTCHU”** could indica...</td>\n",
       "    </tr>\n",
       "    <tr>\n",
       "      <th>3210</th>\n",
       "      <td>What does Eugene’s video-watching and commenti...</td>\n",
       "      <td>Eugene revisited the **“Andrej Karpathy”** int...</td>\n",
       "    </tr>\n",
       "    <tr>\n",
       "      <th>3211</th>\n",
       "      <td>How did Eugene balance multitasking between apps?</td>\n",
       "      <td>Eugene seamlessly alternated between **YouTube...</td>\n",
       "    </tr>\n",
       "  </tbody>\n",
       "</table>\n",
       "<p>3212 rows × 2 columns</p>\n",
       "</div>"
      ],
      "text/plain": [
       "                                               question  \\\n",
       "0     What did Eugene do in the Arc browser around *...   \n",
       "1     How did Eugene transition from YouTube to Spot...   \n",
       "2     What specific interaction did Eugene perform w...   \n",
       "3     What information was displayed on Eugene’s Spo...   \n",
       "4     Which artist page did Eugene view next, and wh...   \n",
       "...                                                 ...   \n",
       "3207        What activity occurred in Slack at 3:53 PM?   \n",
       "3208  What final interactions did Eugene perform bef...   \n",
       "3209  Why might Eugene have removed keshi’s “WANTCHU...   \n",
       "3210  What does Eugene’s video-watching and commenti...   \n",
       "3211  How did Eugene balance multitasking between apps?   \n",
       "\n",
       "                                                 answer  \n",
       "0     Eugene opened a YouTube video in the Arc brows...  \n",
       "1     Eugene switched focus from the Arc tab to the ...  \n",
       "2     He clicked the profile avatar in the top‑right...  \n",
       "3     The profile page showed a large header **“euge...  \n",
       "4     He clicked **“keshi”** in the “Your Library” s...  \n",
       "...                                                 ...  \n",
       "3207  Eugene opened a direct message in **Cal Hacks ...  \n",
       "3208  After the Slack exchange, Eugene’s activity en...  \n",
       "3209  Eugene’s removal of **“WANTCHU”** could indica...  \n",
       "3210  Eugene revisited the **“Andrej Karpathy”** int...  \n",
       "3211  Eugene seamlessly alternated between **YouTube...  \n",
       "\n",
       "[3212 rows x 2 columns]"
      ]
     },
     "execution_count": 4,
     "metadata": {},
     "output_type": "execute_result"
    }
   ],
   "source": [
    "df"
   ]
  },
  {
   "cell_type": "code",
   "execution_count": 5,
   "id": "6dbc51b0",
   "metadata": {},
   "outputs": [],
   "source": [
    "df.to_csv(\"synth_data.csv\")"
   ]
  },
  {
   "cell_type": "code",
   "execution_count": 6,
   "id": "cb2f04af",
   "metadata": {},
   "outputs": [
    {
     "data": {
      "text/plain": [
       "{'question': \"What applications were open on Eugene's Mac at 3:51 PM and how were they arranged?\",\n",
       " 'answer': 'Eugene had **Arc** (web browser) and **Spotify** (desktop client) open side‑by‑side. The macOS dock showed icons for Finder, Messages, Notion, Spotify, Apple Notes, Arc, and ChatGPT, indicating those apps were running. Arc displayed a YouTube video (\"Andrej Karpathy - \\'We\\'re summoning ghosts, not building animals\\'\") while Spotify was showing the playlist **\"Playlist - eugene\"** with playback of \"SPEED UP\" by BENJAMIN RICH**.'}"
      ]
     },
     "execution_count": 6,
     "metadata": {},
     "output_type": "execute_result"
    }
   ],
   "source": [
    "qa_pairs[0]"
   ]
  },
  {
   "cell_type": "code",
   "execution_count": 7,
   "id": "754c4189",
   "metadata": {},
   "outputs": [
    {
     "data": {
      "text/html": [
       "<div>\n",
       "<style scoped>\n",
       "    .dataframe tbody tr th:only-of-type {\n",
       "        vertical-align: middle;\n",
       "    }\n",
       "\n",
       "    .dataframe tbody tr th {\n",
       "        vertical-align: top;\n",
       "    }\n",
       "\n",
       "    .dataframe thead th {\n",
       "        text-align: right;\n",
       "    }\n",
       "</style>\n",
       "<table border=\"1\" class=\"dataframe\">\n",
       "  <thead>\n",
       "    <tr style=\"text-align: right;\">\n",
       "      <th></th>\n",
       "      <th>0</th>\n",
       "    </tr>\n",
       "  </thead>\n",
       "  <tbody>\n",
       "    <tr>\n",
       "      <th>0</th>\n",
       "      <td>question</td>\n",
       "    </tr>\n",
       "    <tr>\n",
       "      <th>1</th>\n",
       "      <td>answer</td>\n",
       "    </tr>\n",
       "    <tr>\n",
       "      <th>2</th>\n",
       "      <td>question</td>\n",
       "    </tr>\n",
       "    <tr>\n",
       "      <th>3</th>\n",
       "      <td>answer</td>\n",
       "    </tr>\n",
       "    <tr>\n",
       "      <th>4</th>\n",
       "      <td>question</td>\n",
       "    </tr>\n",
       "    <tr>\n",
       "      <th>...</th>\n",
       "      <td>...</td>\n",
       "    </tr>\n",
       "    <tr>\n",
       "      <th>4037</th>\n",
       "      <td>answer</td>\n",
       "    </tr>\n",
       "    <tr>\n",
       "      <th>4038</th>\n",
       "      <td>question</td>\n",
       "    </tr>\n",
       "    <tr>\n",
       "      <th>4039</th>\n",
       "      <td>answer</td>\n",
       "    </tr>\n",
       "    <tr>\n",
       "      <th>4040</th>\n",
       "      <td>question</td>\n",
       "    </tr>\n",
       "    <tr>\n",
       "      <th>4041</th>\n",
       "      <td>answer</td>\n",
       "    </tr>\n",
       "  </tbody>\n",
       "</table>\n",
       "<p>4042 rows × 1 columns</p>\n",
       "</div>"
      ],
      "text/plain": [
       "             0\n",
       "0     question\n",
       "1       answer\n",
       "2     question\n",
       "3       answer\n",
       "4     question\n",
       "...        ...\n",
       "4037    answer\n",
       "4038  question\n",
       "4039    answer\n",
       "4040  question\n",
       "4041    answer\n",
       "\n",
       "[4042 rows x 1 columns]"
      ]
     },
     "execution_count": 7,
     "metadata": {},
     "output_type": "execute_result"
    }
   ],
   "source": [
    "df"
   ]
  },
  {
   "cell_type": "code",
   "execution_count": 3,
   "id": "57c7a6df",
   "metadata": {},
   "outputs": [],
   "source": [
    "df.to_csv(\"synth_data.csv\")"
   ]
  },
  {
   "cell_type": "code",
   "execution_count": null,
   "id": "1244fdad",
   "metadata": {},
   "outputs": [],
   "source": []
  }
 ],
 "metadata": {
  "kernelspec": {
   "display_name": ".venv",
   "language": "python",
   "name": "python3"
  },
  "language_info": {
   "codemirror_mode": {
    "name": "ipython",
    "version": 3
   },
   "file_extension": ".py",
   "mimetype": "text/x-python",
   "name": "python",
   "nbconvert_exporter": "python",
   "pygments_lexer": "ipython3",
   "version": "3.11.9"
  }
 },
 "nbformat": 4,
 "nbformat_minor": 5
}
