{
 "cells": [
  {
   "cell_type": "code",
   "execution_count": 1,
   "id": "0e5385e5",
   "metadata": {},
   "outputs": [],
   "source": [
    "import json\n",
    "\n",
    "qa_pairs = json.load(open(\"synth_data.json\"))"
   ]
  },
  {
   "cell_type": "code",
   "execution_count": 4,
   "id": "c9c8be38",
   "metadata": {},
   "outputs": [
    {
     "data": {
      "text/plain": [
       "{'question': \"What applications were open on Eugene's Mac at 3:51 PM and how were they arranged?\",\n",
       " 'answer': 'Eugene had **Arc** (web browser) and **Spotify** (desktop client) open side‑by‑side. The macOS dock showed icons for Finder, Messages, Notion, Spotify, Apple Notes, Arc, and ChatGPT, indicating those apps were running. Arc displayed a YouTube video (\"Andrej Karpathy - \\'We\\'re summoning ghosts, not building animals\\'\") while Spotify was showing the playlist **\"Playlist - eugene\"** with playback of \"SPEED UP\" by BENJAMIN RICH**.'}"
      ]
     },
     "execution_count": 4,
     "metadata": {},
     "output_type": "execute_result"
    }
   ],
   "source": [
    "qa_pairs[0]"
   ]
  },
  {
   "cell_type": "code",
   "execution_count": 9,
   "id": "070773c7",
   "metadata": {},
   "outputs": [],
   "source": [
    "import pandas as pd\n",
    "\n",
    "df = pd.DataFrame([q for q in qa_pairs])"
   ]
  },
  {
   "cell_type": "code",
   "execution_count": 11,
   "id": "6dbc51b0",
   "metadata": {},
   "outputs": [],
   "source": [
    "df.to_csv(\"synth_data.csv\")"
   ]
  },
  {
   "cell_type": "code",
   "execution_count": 6,
   "id": "cb2f04af",
   "metadata": {},
   "outputs": [
    {
     "data": {
      "text/plain": [
       "{'question': \"What applications were open on Eugene's Mac at 3:51 PM and how were they arranged?\",\n",
       " 'answer': 'Eugene had **Arc** (web browser) and **Spotify** (desktop client) open side‑by‑side. The macOS dock showed icons for Finder, Messages, Notion, Spotify, Apple Notes, Arc, and ChatGPT, indicating those apps were running. Arc displayed a YouTube video (\"Andrej Karpathy - \\'We\\'re summoning ghosts, not building animals\\'\") while Spotify was showing the playlist **\"Playlist - eugene\"** with playback of \"SPEED UP\" by BENJAMIN RICH**.'}"
      ]
     },
     "execution_count": 6,
     "metadata": {},
     "output_type": "execute_result"
    }
   ],
   "source": [
    "qa_pairs[0]"
   ]
  },
  {
   "cell_type": "code",
   "execution_count": 7,
   "id": "754c4189",
   "metadata": {},
   "outputs": [
    {
     "data": {
      "text/html": [
       "<div>\n",
       "<style scoped>\n",
       "    .dataframe tbody tr th:only-of-type {\n",
       "        vertical-align: middle;\n",
       "    }\n",
       "\n",
       "    .dataframe tbody tr th {\n",
       "        vertical-align: top;\n",
       "    }\n",
       "\n",
       "    .dataframe thead th {\n",
       "        text-align: right;\n",
       "    }\n",
       "</style>\n",
       "<table border=\"1\" class=\"dataframe\">\n",
       "  <thead>\n",
       "    <tr style=\"text-align: right;\">\n",
       "      <th></th>\n",
       "      <th>0</th>\n",
       "    </tr>\n",
       "  </thead>\n",
       "  <tbody>\n",
       "    <tr>\n",
       "      <th>0</th>\n",
       "      <td>question</td>\n",
       "    </tr>\n",
       "    <tr>\n",
       "      <th>1</th>\n",
       "      <td>answer</td>\n",
       "    </tr>\n",
       "    <tr>\n",
       "      <th>2</th>\n",
       "      <td>question</td>\n",
       "    </tr>\n",
       "    <tr>\n",
       "      <th>3</th>\n",
       "      <td>answer</td>\n",
       "    </tr>\n",
       "    <tr>\n",
       "      <th>4</th>\n",
       "      <td>question</td>\n",
       "    </tr>\n",
       "    <tr>\n",
       "      <th>...</th>\n",
       "      <td>...</td>\n",
       "    </tr>\n",
       "    <tr>\n",
       "      <th>4037</th>\n",
       "      <td>answer</td>\n",
       "    </tr>\n",
       "    <tr>\n",
       "      <th>4038</th>\n",
       "      <td>question</td>\n",
       "    </tr>\n",
       "    <tr>\n",
       "      <th>4039</th>\n",
       "      <td>answer</td>\n",
       "    </tr>\n",
       "    <tr>\n",
       "      <th>4040</th>\n",
       "      <td>question</td>\n",
       "    </tr>\n",
       "    <tr>\n",
       "      <th>4041</th>\n",
       "      <td>answer</td>\n",
       "    </tr>\n",
       "  </tbody>\n",
       "</table>\n",
       "<p>4042 rows × 1 columns</p>\n",
       "</div>"
      ],
      "text/plain": [
       "             0\n",
       "0     question\n",
       "1       answer\n",
       "2     question\n",
       "3       answer\n",
       "4     question\n",
       "...        ...\n",
       "4037    answer\n",
       "4038  question\n",
       "4039    answer\n",
       "4040  question\n",
       "4041    answer\n",
       "\n",
       "[4042 rows x 1 columns]"
      ]
     },
     "execution_count": 7,
     "metadata": {},
     "output_type": "execute_result"
    }
   ],
   "source": [
    "df"
   ]
  },
  {
   "cell_type": "code",
   "execution_count": 3,
   "id": "57c7a6df",
   "metadata": {},
   "outputs": [],
   "source": [
    "df.to_csv(\"synth_data.csv\")"
   ]
  },
  {
   "cell_type": "code",
   "execution_count": null,
   "id": "1244fdad",
   "metadata": {},
   "outputs": [],
   "source": []
  }
 ],
 "metadata": {
  "kernelspec": {
   "display_name": ".venv",
   "language": "python",
   "name": "python3"
  },
  "language_info": {
   "codemirror_mode": {
    "name": "ipython",
    "version": 3
   },
   "file_extension": ".py",
   "mimetype": "text/x-python",
   "name": "python",
   "nbconvert_exporter": "python",
   "pygments_lexer": "ipython3",
   "version": "3.11.9"
  }
 },
 "nbformat": 4,
 "nbformat_minor": 5
}
