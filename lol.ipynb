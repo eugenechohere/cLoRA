{
 "cells": [
  {
   "cell_type": "code",
   "execution_count": 16,
   "id": "0e5385e5",
   "metadata": {},
   "outputs": [],
   "source": [
    "import json\n",
    "\n",
    "qa_pairs = json.load(open(\"/Users/jonathan/Documents/calhacks-continual-learning/synth_data.json\"))"
   ]
  },
  {
   "cell_type": "code",
   "execution_count": 17,
   "id": "070773c7",
   "metadata": {},
   "outputs": [],
   "source": [
    "import pandas as pd\n",
    "\n",
    "df = pd.DataFrame([k for q in qa_pairs for k in q])"
   ]
  },
  {
   "cell_type": "code",
   "execution_count": 18,
   "id": "57c7a6df",
   "metadata": {},
   "outputs": [],
   "source": [
    "df.to_csv(\"synth_data.csv\")"
   ]
  },
  {
   "cell_type": "code",
   "execution_count": null,
   "id": "1244fdad",
   "metadata": {},
   "outputs": [],
   "source": []
  }
 ],
 "metadata": {
  "kernelspec": {
   "display_name": ".venv",
   "language": "python",
   "name": "python3"
  },
  "language_info": {
   "codemirror_mode": {
    "name": "ipython",
    "version": 3
   },
   "file_extension": ".py",
   "mimetype": "text/x-python",
   "name": "python",
   "nbconvert_exporter": "python",
   "pygments_lexer": "ipython3",
   "version": "3.11.13"
  }
 },
 "nbformat": 4,
 "nbformat_minor": 5
}
