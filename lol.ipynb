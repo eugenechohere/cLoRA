{
 "cells": [
  {
   "cell_type": "code",
   "execution_count": 65,
   "id": "0e5385e5",
   "metadata": {},
   "outputs": [],
   "source": [
    "import json\n",
    "\n",
    "qa_pairs = json.load(open(\"/Users/jonathan/Documents/calhacks-continual-learning/synth_data.json\"))"
   ]
  },
  {
   "cell_type": "code",
   "execution_count": 55,
   "id": "c9c8be38",
   "metadata": {},
   "outputs": [
    {
     "data": {
      "text/plain": [
       "[{'question': 'What did Eugene do first at 11:25\\u202fPM on Oct\\u202f24?',\n",
       "  'answer': 'Eugene opened a YouTube tab in the Arc browser showing a paused/playing interview where a speaker is using a\\u202fRØDE microphone. Subtitles displayed the line “similar to maybe what evolution has done. That’s why I call pre‑training.” The browser’s top bar, red play button, and the Mac dock (Finder, Notion, Slack, ChatGPT, Spotify) were visible.'},\n",
       " {'question': \"What was Eugene's first move at 11:25 PM on October 24?\",\n",
       "  'answer': 'He opened the Arc browser and launched a YouTube tab that showed a paused or playing interview with a speaker holding a RØDE microphone. The subtitles read \"similar to maybe what evolution has done. That\\'s why I call pre‑training.\" The screen also displayed the browser\\'s top bar, the red play button, and the Mac dock with Finder, Notion, Slack, ChatGPT, and Spotify.'},\n",
       " {'question': 'At 11:25 PM on 24 Oct, what did Eugene do first?',\n",
       "  'answer': 'Eugene started by opening a YouTube page in the Arc browser, where a paused or playing interview featuring a speaker with a RØDE microphone was displayed. The subtitles showed \"similar to maybe what evolution has done. That\\'s why I call pre‑training.\" The browser\\'s top bar, the red play button, and the Mac dock-showing Finder, Notion, Slack, ChatGPT, and Spotify-were also visible.'},\n",
       " {'question': 'What action did Eugene take at 11:25 PM on October 24?',\n",
       "  'answer': 'He opened a new tab in the Arc browser to view a YouTube video of an interview that was paused or playing, with a speaker using a RØDE microphone. The subtitles included the line \"similar to maybe what evolution has done. That\\'s why I call pre‑training.\" The view also featured the browser\\'s top bar, the red play button, and the Mac dock listing Finder, Notion, Slack, ChatGPT, and Spotify.'},\n",
       " {'question': 'What was Eugene’s first activity at 11:25\\u202fPM on the 24th of October?',\n",
       "  'answer': 'He launched the Arc browser and opened a YouTube tab that showed a paused or playing interview where a speaker held a\\u202fRØDE microphone. The subtitles read “similar to maybe what evolution has done. That’s why I call pre‑training.” The screen displayed the browser’s top bar, the red play button, and the Mac dock with Finder, Notion, Slack, ChatGPT, and Spotify.'},\n",
       " {'question': 'At 11:25 PM on 24 Oct, what did Eugene do first?',\n",
       "  'answer': 'He opened a YouTube page inside the Arc browser, where a paused or playing interview featuring a speaker with a RØDE microphone was visible. The subtitles said \"similar to maybe what evolution has done. That\\'s why I call pre‑training.\" The view included the browser\\'s top bar, the red play button, and the Mac dock showing Finder, Notion, Slack, ChatGPT, and Spotify.'}]"
      ]
     },
     "execution_count": 55,
     "metadata": {},
     "output_type": "execute_result"
    }
   ],
   "source": [
    "qa_pairs[0]"
   ]
  },
  {
   "cell_type": "code",
   "execution_count": 56,
   "id": "070773c7",
   "metadata": {},
   "outputs": [],
   "source": [
    "import pandas as pd\n",
    "\n",
    "df = pd.DataFrame([k for q in qa_pairs for k in q])"
   ]
  },
  {
   "cell_type": "code",
   "execution_count": 57,
   "id": "57c7a6df",
   "metadata": {},
   "outputs": [],
   "source": [
    "df.to_csv(\"synth_data.csv\")"
   ]
  },
  {
   "cell_type": "code",
   "execution_count": null,
   "id": "1244fdad",
   "metadata": {},
   "outputs": [],
   "source": []
  }
 ],
 "metadata": {
  "kernelspec": {
   "display_name": ".venv",
   "language": "python",
   "name": "python3"
  },
  "language_info": {
   "codemirror_mode": {
    "name": "ipython",
    "version": 3
   },
   "file_extension": ".py",
   "mimetype": "text/x-python",
   "name": "python",
   "nbconvert_exporter": "python",
   "pygments_lexer": "ipython3",
   "version": "3.11.13"
  }
 },
 "nbformat": 4,
 "nbformat_minor": 5
}
